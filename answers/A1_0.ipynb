{
 "cells": [
  {
   "attachments": {},
   "cell_type": "markdown",
   "metadata": {},
   "source": [
    "# Answers 1"
   ]
  },
  {
   "attachments": {},
   "cell_type": "markdown",
   "metadata": {},
   "source": [
    "1. What is OOPS?\n",
    "2. Write basic concepts or OOPS?\n",
    "    - Abstraction\n",
    "    - Inheritance\n",
    "    - Encapsulation\n",
    "    - Polymorphism\n",
    "3. What is a class?\n",
    "4. What is an Object?\n",
    "5. What is Encapsulation?\n",
    "    - 'General levels': Public, Protected, Private, Internal, and Protected Internal\n",
    "    - Py levels: Public and Private ('__xxx')\n",
    "6. What is Polymorphism?\n",
    "7. What is Inheritance?\n",
    "8. What are manipulators?\n",
    "    - ¿? << or >>, and in py module named 'manipulator'\n",
    "9. Explain the term constructor\n",
    "10. Define Destructor\n",
    "11. What is an inline function?\n",
    "    - Technique used by compilers -> insert complete body of the funct. ...\n",
    "12. What is a virtual function?\n",
    "    - Duck Typing in Python.\n",
    "13. What is a friend function?\n",
    "    - external fucnt. that accesses private or protected class attributes. \n",
    "    - DO NOT exist en Py (only mangled names)\n",
    "14. What is function overloading?\n",
    "    - Function overloading is the feature when multiple functions have the same name, but the number of parameters in the functions varies. Python does not support function overloading as in other languages, and the functional parameters do not have a data type.\n",
    "15. \n",
    "\n",
    "\n"
   ]
  },
  {
   "cell_type": "code",
   "execution_count": null,
   "metadata": {},
   "outputs": [],
   "source": []
  }
 ],
 "metadata": {
  "kernelspec": {
   "display_name": "Python 3",
   "language": "python",
   "name": "python3"
  },
  "language_info": {
   "name": "python",
   "version": "3.11.0"
  },
  "orig_nbformat": 4
 },
 "nbformat": 4,
 "nbformat_minor": 2
}
